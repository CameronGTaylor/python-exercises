{
 "cells": [
  {
   "cell_type": "code",
   "execution_count": 2,
   "metadata": {},
   "outputs": [],
   "source": [
    "import pandas as pd\n",
    "import numpy as np\n",
    "%matplotlib inline\n",
    "import matplotlib.pyplot as plt"
   ]
  },
  {
   "cell_type": "code",
   "execution_count": 3,
   "metadata": {},
   "outputs": [],
   "source": [
    "x = np.arange(1,100)\n",
    "constant = (0 * x + 1)\n",
    "logarithmic = (np.log(x))\n",
    "linear = x\n",
    "loglinear = x * np.log(x)\n",
    "quadratic = x ** 2\n",
    "exponential = 2 ** x\n",
    "factorial = [np.math.factorial(x) for x in x]"
   ]
  },
  {
   "cell_type": "code",
   "execution_count": 4,
   "metadata": {},
   "outputs": [],
   "source": [
    "big_o = pd.DataFrame({'constant': constant,\n",
    "                   'logarithmic': logarithmic,\n",
    "                   'linear': linear,\n",
    "                   'loglinear': loglinear,\n",
    "                   'quadratic': quadratic,\n",
    "                   'exponential': exponential,\n",
    "                   'factorial': factorial})"
   ]
  },
  {
   "cell_type": "code",
   "execution_count": 19,
   "metadata": {},
   "outputs": [
    {
     "name": "stdout",
     "output_type": "stream",
     "text": [
      "    constant  logarithmic  linear   loglinear  quadratic  exponential  \\\n",
      "0          1     0.000000       1    0.000000          1            2   \n",
      "1          1     0.693147       2    1.386294          4            4   \n",
      "2          1     1.098612       3    3.295837          9            8   \n",
      "3          1     1.386294       4    5.545177         16           16   \n",
      "4          1     1.609438       5    8.047190         25           32   \n",
      "..       ...          ...     ...         ...        ...          ...   \n",
      "94         1     4.553877      95  432.618305       9025            0   \n",
      "95         1     4.564348      96  438.177426       9216            0   \n",
      "96         1     4.574711      97  443.746965       9409            0   \n",
      "97         1     4.584967      98  449.326813       9604            0   \n",
      "98         1     4.595120      99  454.916865       9801            0   \n",
      "\n",
      "                                            factorial  \n",
      "0                                                   1  \n",
      "1                                                   2  \n",
      "2                                                   6  \n",
      "3                                                  24  \n",
      "4                                                 120  \n",
      "..                                                ...  \n",
      "94  1032997848823905926259970209939472709539774634...  \n",
      "95  9916779348709496892095714015418938011581836486...  \n",
      "96  9619275968248211985332842594956369871234381391...  \n",
      "97  9426890448883247745626185743057242473809693764...  \n",
      "98  9332621544394415268169923885626670049071596826...  \n",
      "\n",
      "[99 rows x 7 columns]\n"
     ]
    }
   ],
   "source": [
    "print(big_o)"
   ]
  },
  {
   "cell_type": "code",
   "execution_count": 15,
   "metadata": {},
   "outputs": [
    {
     "data": {
      "text/plain": [
       "(0, 100)"
      ]
     },
     "execution_count": 15,
     "metadata": {},
     "output_type": "execute_result"
    },
    {
     "data": {
      "image/png": "[encoded data removed]",
      "text/plain": [
       "<Figure size 432x288 with 1 Axes>"
      ]
     },
     "metadata": {
      "needs_background": "light"
     },
     "output_type": "display_data"
    }
   ],
   "source": [
    "big_o.plot()\n",
    "plt.ylim(-205,1009)\n",
    "plt.xlim(0,100)"
   ]
  },
  {
   "cell_type": "code",
   "execution_count": null,
   "metadata": {},
   "outputs": [],
   "source": []
  }
 ],
 "metadata": {
  "kernelspec": {
   "display_name": "Python 3",
   "language": "python",
   "name": "python3"
  },
  "language_info": {
   "codemirror_mode": {
    "name": "ipython",
    "version": 3
   },
   "file_extension": ".py",
   "mimetype": "text/x-python",
   "name": "python",
   "nbconvert_exporter": "python",
   "pygments_lexer": "ipython3",
   "version": "3.7.4"
  }
 },
 "nbformat": 4,
 "nbformat_minor": 2
}
