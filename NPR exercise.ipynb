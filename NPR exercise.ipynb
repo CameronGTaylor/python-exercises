{
 "cells": [
  {
   "cell_type": "code",
   "execution_count": 1,
   "metadata": {},
   "outputs": [],
   "source": [
    "import pandas as pd"
   ]
  },
  {
   "cell_type": "code",
   "execution_count": 1,
   "metadata": {},
   "outputs": [
    {
     "name": "stdout",
     "output_type": "stream",
     "text": [
      "['A', 'a', 'aa', 'aal', 'aalii', 'aam', 'Aani', 'aardvark', 'aardwolf', 'Aaron', 'Aaronic', 'Aaronical', 'Aaronite', 'Aaronitic', 'Aaru']\n"
     ]
    }
   ],
   "source": [
    "with open('/usr/share/dict/words') as f:\n",
    "    words = f.read().split('\\n')\n",
    "\n",
    "print(words[:15])"
   ]
  },
  {
   "cell_type": "code",
   "execution_count": 5,
   "metadata": {},
   "outputs": [
    {
     "data": {
      "text/plain": [
       "1"
      ]
     },
     "execution_count": 5,
     "metadata": {},
     "output_type": "execute_result"
    }
   ],
   "source": [
    "letter_val = []\n",
    "alphabet = [chr(x+97) for x in range(26)]\n",
    "num_val = [i + 1 for i in range(len(alphabet))]\n",
    "# for i in range(len(alphabet)):\n",
    "#     letter_val[i] = [alphabet[i], num_val[i]]\n",
    "# letter_val\n",
    "alphabet.index('b')"
   ]
  },
  {
   "cell_type": "code",
   "execution_count": 9,
   "metadata": {},
   "outputs": [],
   "source": [
    "letter_val = pd.DataFrame({'letter': alphabet, 'value': num_val})"
   ]
  },
  {
   "cell_type": "code",
   "execution_count": null,
   "metadata": {},
   "outputs": [],
   "source": []
  },
  {
   "cell_type": "code",
   "execution_count": 8,
   "metadata": {},
   "outputs": [],
   "source": [
    "def count_letters(word):\n",
    "    word = word.lower()\n",
    "    first = num_val[alphabet.index(word[0])]\n",
    "    total = 0\n",
    "    for letter in word:\n",
    "        total += num_val[alphabet.index(letter)]\n",
    "    total -= first\n",
    "    if total == first:\n",
    "        print(f'{word.capitalize()} has a count of {first} for ' +\n",
    "            f'the first and {total} for the remaining')\n",
    "    else:\n",
    "        pass"
   ]
  },
  {
   "cell_type": "code",
   "execution_count": 4,
   "metadata": {},
   "outputs": [
    {
     "name": "stdout",
     "output_type": "stream",
     "text": [
      "['aalii', 'aaron', 'abaca', 'aback', 'abaff', 'abaft', 'abama', 'abase', 'abash', 'abask', 'abate', 'abave', 'abaze', 'abbas', 'abbey']\n"
     ]
    }
   ],
   "source": [
    "five_len_words = [word.lower() for word in words if len(word) == 5]\n",
    "print(five_len_words[:15])\n"
   ]
  },
  {
   "cell_type": "code",
   "execution_count": 9,
   "metadata": {},
   "outputs": [
    {
     "name": "stdout",
     "output_type": "stream",
     "text": [
      "Raffe has a count of 18 for the first and 18 for the remaining\n",
      "Sadie has a count of 19 for the first and 19 for the remaining\n",
      "Sifac has a count of 19 for the first and 19 for the remaining\n",
      "Table has a count of 20 for the first and 20 for the remaining\n",
      "Uchee has a count of 21 for the first and 21 for the remaining\n",
      "Vakia has a count of 22 for the first and 22 for the remaining\n",
      "Vicia has a count of 22 for the first and 22 for the remaining\n",
      "Wanga has a count of 23 for the first and 23 for the remaining\n",
      "Whack has a count of 23 for the first and 23 for the remaining\n",
      "Xicak has a count of 24 for the first and 24 for the remaining\n",
      "Yeara has a count of 25 for the first and 25 for the remaining\n",
      "Zebra has a count of 26 for the first and 26 for the remaining\n"
     ]
    }
   ],
   "source": [
    "for word in five_len_words:\n",
    "    count_letters(word)"
   ]
  },
  {
   "cell_type": "code",
   "execution_count": null,
   "metadata": {},
   "outputs": [],
   "source": []
  }
 ],
 "metadata": {
  "kernelspec": {
   "display_name": "Python 3",
   "language": "python",
   "name": "python3"
  },
  "language_info": {
   "codemirror_mode": {
    "name": "ipython",
    "version": 3
   },
   "file_extension": ".py",
   "mimetype": "text/x-python",
   "name": "python",
   "nbconvert_exporter": "python",
   "pygments_lexer": "ipython3",
   "version": "3.7.4"
  }
 },
 "nbformat": 4,
 "nbformat_minor": 2
}
